{
 "cells": [
  {
   "cell_type": "markdown",
   "metadata": {},
   "source": [
    "### Imports"
   ]
  },
  {
   "cell_type": "code",
   "execution_count": 13,
   "metadata": {},
   "outputs": [],
   "source": [
    "# Download json from Bolivia departments\n",
    "# !wget -O ../data/geo/bo.json https://geonode.geovisorumsa.com/geoserver/ows?srsName=EPSG%3A4326&outputFormat=json&service=WFS&srs=EPSG%3A4326&request=GetFeature&typename=geonode%3Adepartamentos_bolivia&version=1.0.0\n",
    "import geopandas as gpd"
   ]
  },
  {
   "cell_type": "markdown",
   "metadata": {},
   "source": [
    "### Read geographical data for departments in Bolivia"
   ]
  },
  {
   "cell_type": "code",
   "execution_count": 14,
   "metadata": {},
   "outputs": [
    {
     "name": "stdout",
     "output_type": "stream",
     "text": [
      "(14, 9)\n"
     ]
    },
    {
     "data": {
      "text/html": [
       "<div>\n",
       "<style scoped>\n",
       "    .dataframe tbody tr th:only-of-type {\n",
       "        vertical-align: middle;\n",
       "    }\n",
       "\n",
       "    .dataframe tbody tr th {\n",
       "        vertical-align: top;\n",
       "    }\n",
       "\n",
       "    .dataframe thead th {\n",
       "        text-align: right;\n",
       "    }\n",
       "</style>\n",
       "<table border=\"1\" class=\"dataframe\">\n",
       "  <thead>\n",
       "    <tr style=\"text-align: right;\">\n",
       "      <th></th>\n",
       "      <th>id</th>\n",
       "      <th>fid</th>\n",
       "      <th>gml_id</th>\n",
       "      <th>OBJECTID</th>\n",
       "      <th>ID</th>\n",
       "      <th>COD_DEP</th>\n",
       "      <th>NOM_DEP</th>\n",
       "      <th>DESCRIP</th>\n",
       "      <th>geometry</th>\n",
       "    </tr>\n",
       "  </thead>\n",
       "  <tbody>\n",
       "    <tr>\n",
       "      <th>0</th>\n",
       "      <td>departamentos_bolivia.1</td>\n",
       "      <td>1</td>\n",
       "      <td>departamento1.1</td>\n",
       "      <td>408</td>\n",
       "      <td>261</td>\n",
       "      <td>8</td>\n",
       "      <td>BENI</td>\n",
       "      <td>Departamento</td>\n",
       "      <td>MULTIPOLYGON (((-63.38139 -15.88395, -63.44492...</td>\n",
       "    </tr>\n",
       "    <tr>\n",
       "      <th>1</th>\n",
       "      <td>departamentos_bolivia.2</td>\n",
       "      <td>2</td>\n",
       "      <td>departamento1.2</td>\n",
       "      <td>25</td>\n",
       "      <td>147</td>\n",
       "      <td>1</td>\n",
       "      <td>CHUQUISACA</td>\n",
       "      <td>Departamento</td>\n",
       "      <td>MULTIPOLYGON (((-65.20002 -21.06723, -65.20003...</td>\n",
       "    </tr>\n",
       "    <tr>\n",
       "      <th>2</th>\n",
       "      <td>departamentos_bolivia.3</td>\n",
       "      <td>3</td>\n",
       "      <td>departamento1.3</td>\n",
       "      <td>1</td>\n",
       "      <td>0</td>\n",
       "      <td>3</td>\n",
       "      <td>COCHABAMBA</td>\n",
       "      <td>Departamento</td>\n",
       "      <td>MULTIPOLYGON (((-66.33848 -16.26765, -66.31102...</td>\n",
       "    </tr>\n",
       "    <tr>\n",
       "      <th>3</th>\n",
       "      <td>departamentos_bolivia.4</td>\n",
       "      <td>4</td>\n",
       "      <td>departamento1.4</td>\n",
       "      <td>249</td>\n",
       "      <td>96</td>\n",
       "      <td>2</td>\n",
       "      <td>LA PAZ</td>\n",
       "      <td>Departamento</td>\n",
       "      <td>MULTIPOLYGON (((-68.77752 -16.42364, -68.77733...</td>\n",
       "    </tr>\n",
       "    <tr>\n",
       "      <th>4</th>\n",
       "      <td>departamentos_bolivia.5</td>\n",
       "      <td>5</td>\n",
       "      <td>departamento1.5</td>\n",
       "      <td>96</td>\n",
       "      <td>428</td>\n",
       "      <td>4</td>\n",
       "      <td>ORURO</td>\n",
       "      <td>Departamento</td>\n",
       "      <td>MULTIPOLYGON (((-67.52889 -19.86396, -67.52937...</td>\n",
       "    </tr>\n",
       "  </tbody>\n",
       "</table>\n",
       "</div>"
      ],
      "text/plain": [
       "                        id  fid           gml_id  OBJECTID   ID COD_DEP  \\\n",
       "0  departamentos_bolivia.1    1  departamento1.1       408  261       8   \n",
       "1  departamentos_bolivia.2    2  departamento1.2        25  147       1   \n",
       "2  departamentos_bolivia.3    3  departamento1.3         1    0       3   \n",
       "3  departamentos_bolivia.4    4  departamento1.4       249   96       2   \n",
       "4  departamentos_bolivia.5    5  departamento1.5        96  428       4   \n",
       "\n",
       "      NOM_DEP       DESCRIP                                           geometry  \n",
       "0        BENI  Departamento  MULTIPOLYGON (((-63.38139 -15.88395, -63.44492...  \n",
       "1  CHUQUISACA  Departamento  MULTIPOLYGON (((-65.20002 -21.06723, -65.20003...  \n",
       "2  COCHABAMBA  Departamento  MULTIPOLYGON (((-66.33848 -16.26765, -66.31102...  \n",
       "3      LA PAZ  Departamento  MULTIPOLYGON (((-68.77752 -16.42364, -68.77733...  \n",
       "4       ORURO  Departamento  MULTIPOLYGON (((-67.52889 -19.86396, -67.52937...  "
      ]
     },
     "execution_count": 14,
     "metadata": {},
     "output_type": "execute_result"
    }
   ],
   "source": [
    "# Read 'json' file as geodataframe\n",
    "gdf_bo = gpd.read_file(r'../data/geo/bo.json')\n",
    "# Print the dimensionality of the dataframe\n",
    "print(gdf_bo.shape)\n",
    "# Show dataframe\n",
    "gdf_bo.head()"
   ]
  },
  {
   "cell_type": "markdown",
   "metadata": {},
   "source": [
    "### Process data"
   ]
  },
  {
   "cell_type": "code",
   "execution_count": 15,
   "metadata": {},
   "outputs": [
    {
     "data": {
      "text/html": [
       "<div>\n",
       "<style scoped>\n",
       "    .dataframe tbody tr th:only-of-type {\n",
       "        vertical-align: middle;\n",
       "    }\n",
       "\n",
       "    .dataframe tbody tr th {\n",
       "        vertical-align: top;\n",
       "    }\n",
       "\n",
       "    .dataframe thead th {\n",
       "        text-align: right;\n",
       "    }\n",
       "</style>\n",
       "<table border=\"1\" class=\"dataframe\">\n",
       "  <thead>\n",
       "    <tr style=\"text-align: right;\">\n",
       "      <th></th>\n",
       "      <th>departamento</th>\n",
       "      <th>geometry</th>\n",
       "    </tr>\n",
       "  </thead>\n",
       "  <tbody>\n",
       "    <tr>\n",
       "      <th>0</th>\n",
       "      <td>Beni</td>\n",
       "      <td>MULTIPOLYGON (((-63.38139 -15.88395, -63.44492...</td>\n",
       "    </tr>\n",
       "    <tr>\n",
       "      <th>1</th>\n",
       "      <td>Chuquisaca</td>\n",
       "      <td>MULTIPOLYGON (((-65.20002 -21.06723, -65.20003...</td>\n",
       "    </tr>\n",
       "    <tr>\n",
       "      <th>2</th>\n",
       "      <td>Cochabamba</td>\n",
       "      <td>MULTIPOLYGON (((-66.33848 -16.26765, -66.31102...</td>\n",
       "    </tr>\n",
       "    <tr>\n",
       "      <th>3</th>\n",
       "      <td>La Paz</td>\n",
       "      <td>MULTIPOLYGON (((-68.77752 -16.42364, -68.77733...</td>\n",
       "    </tr>\n",
       "    <tr>\n",
       "      <th>4</th>\n",
       "      <td>Oruro</td>\n",
       "      <td>MULTIPOLYGON (((-67.52889 -19.86396, -67.52937...</td>\n",
       "    </tr>\n",
       "  </tbody>\n",
       "</table>\n",
       "</div>"
      ],
      "text/plain": [
       "  departamento                                           geometry\n",
       "0         Beni  MULTIPOLYGON (((-63.38139 -15.88395, -63.44492...\n",
       "1   Chuquisaca  MULTIPOLYGON (((-65.20002 -21.06723, -65.20003...\n",
       "2   Cochabamba  MULTIPOLYGON (((-66.33848 -16.26765, -66.31102...\n",
       "3       La Paz  MULTIPOLYGON (((-68.77752 -16.42364, -68.77733...\n",
       "4        Oruro  MULTIPOLYGON (((-67.52889 -19.86396, -67.52937..."
      ]
     },
     "execution_count": 15,
     "metadata": {},
     "output_type": "execute_result"
    }
   ],
   "source": [
    "# Column names to lower\n",
    "gdf_bo.columns = gdf_bo.columns.str.lower()\n",
    "# Rename a column\n",
    "gdf_bo.rename(columns = {'nom_dep':'departamento'}, inplace = True)\n",
    "# Change values to title method from a column\n",
    "gdf_bo['departamento'] = gdf_bo['departamento'].str.title()\n",
    "# Replace a single value with a new value for an entire dataframe\n",
    "gdf_bo = gdf_bo.replace(['Potosi'],'Potosí')\n",
    "# Filter columns\n",
    "bo = gdf_bo[['departamento', 'geometry']]\n",
    "# Show dataframe\n",
    "bo.head()"
   ]
  },
  {
   "cell_type": "markdown",
   "metadata": {},
   "source": [
    "### Save data"
   ]
  },
  {
   "cell_type": "code",
   "execution_count": 16,
   "metadata": {},
   "outputs": [],
   "source": [
    "# Save geodataframe as 'geojson'\n",
    "bo.to_file('../data/processed/bo.geojson', driver='GeoJSON')"
   ]
  }
 ],
 "metadata": {
  "kernelspec": {
   "display_name": "Python 3.8.10 ('comision_revision_bolivia-xVftFsHt')",
   "language": "python",
   "name": "python3"
  },
  "language_info": {
   "codemirror_mode": {
    "name": "ipython",
    "version": 3
   },
   "file_extension": ".py",
   "mimetype": "text/x-python",
   "name": "python",
   "nbconvert_exporter": "python",
   "pygments_lexer": "ipython3",
   "version": "3.8.10"
  },
  "orig_nbformat": 4,
  "vscode": {
   "interpreter": {
    "hash": "fa720b5319c807a86d0a0f309fc249a5f78dc5ac1d90325e510c2f6ba8b9339a"
   }
  }
 },
 "nbformat": 4,
 "nbformat_minor": 2
}
